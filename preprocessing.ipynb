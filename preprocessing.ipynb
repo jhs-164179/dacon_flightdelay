{
 "cells": [
  {
   "attachments": {},
   "cell_type": "markdown",
   "metadata": {},
   "source": [
    "# Baseline\n",
    "1. 레이블을 제외한 컬럼의 결측치 최빈값으로 처리\n",
    "2. 질적 변수 수치화\n",
    "3. 레이블이 없는 데이터 제거"
   ]
  },
  {
   "cell_type": "code",
   "execution_count": 1,
   "metadata": {},
   "outputs": [],
   "source": [
    "import pandas as pd\n",
    "import numpy as np\n",
    "import random\n",
    "import os\n",
    "from sklearn.preprocessing import LabelEncoder\n",
    "\n",
    "def seed_everything(seed):\n",
    "    random.seed(seed)\n",
    "    os.environ['PYTHONHASHSEED'] = str(seed)\n",
    "    np.random.seed(seed)\n",
    "    \n",
    "seed_everything(42)"
   ]
  },
  {
   "cell_type": "code",
   "execution_count": 2,
   "metadata": {},
   "outputs": [],
   "source": [
    "train = pd.read_parquet('./train.parquet').drop(\"ID\", axis=1)\n",
    "test = pd.read_parquet('./test.parquet').drop(\"ID\", axis=1)\n",
    "sample_submission = pd.read_csv('./dts/sample_submission.csv')"
   ]
  },
  {
   "cell_type": "code",
   "execution_count": 3,
   "metadata": {},
   "outputs": [
    {
     "name": "stdout",
     "output_type": "stream",
     "text": [
      "['Estimated_Departure_Time', 'Estimated_Arrival_Time', 'Origin_State', 'Destination_State', 'Airline', 'Carrier_Code(IATA)', 'Carrier_ID(DOT)', 'Delay']\n",
      "Done\n"
     ]
    }
   ],
   "source": [
    "NaN_col = []\n",
    "\n",
    "for i in range(len(train.columns)):\n",
    "    if(sum(train[train.columns[i]].notna())<1000000):\n",
    "        NaN_col.append(train.columns[i])\n",
    "        \n",
    "print(NaN_col)\n",
    "\n",
    "for col in NaN_col:\n",
    "    mode = train[col].mode()[0]\n",
    "    train[col] = train[col].fillna(mode)\n",
    "    \n",
    "    if col in test.columns:\n",
    "        test[col] = test[col].fillna(mode)\n",
    "\n",
    "print('Done')"
   ]
  },
  {
   "cell_type": "code",
   "execution_count": 4,
   "metadata": {},
   "outputs": [
    {
     "name": "stdout",
     "output_type": "stream",
     "text": [
      "['Origin_Airport', 'Origin_State', 'Destination_Airport', 'Destination_State', 'Airline', 'Carrier_Code(IATA)', 'Tail_Number', 'Delay']\n",
      "['Origin_Airport', 'Origin_State', 'Destination_Airport', 'Destination_State', 'Airline', 'Carrier_Code(IATA)', 'Tail_Number']\n",
      "Done.\n"
     ]
    }
   ],
   "source": [
    "qual_col = []\n",
    "\n",
    "for i in range(len(train.dtypes)):\n",
    "    if (train.dtypes[i] == 'object'):\n",
    "        qual_col.append(train.columns[i])\n",
    "        \n",
    "print(qual_col)\n",
    "qual_col.remove('Delay')\n",
    "print(qual_col)\n",
    "\n",
    "for i in qual_col:\n",
    "    le = LabelEncoder()\n",
    "    le = le.fit(train[i])\n",
    "    train[i] = le.transform(train[i])\n",
    "    \n",
    "    for label in np.unique(test[i]):\n",
    "        if label not in le.classes_:\n",
    "            le.classes_ = np.append(le.classes_, label)\n",
    "            \n",
    "    test[i] = le.transform(test[i])\n",
    "    \n",
    "print('Done.')"
   ]
  },
  {
   "cell_type": "code",
   "execution_count": 5,
   "metadata": {},
   "outputs": [
    {
     "name": "stdout",
     "output_type": "stream",
     "text": [
      "Done.\n"
     ]
    }
   ],
   "source": [
    "train = train.dropna()\n",
    "\n",
    "column_number = {}\n",
    "for i,column in enumerate(sample_submission.columns):\n",
    "    column_number[column] = i\n",
    "    \n",
    "def to_number(x, dic):\n",
    "    return dic[x]\n",
    "\n",
    "train.loc[:, 'Delay_num'] = train['Delay'].apply(lambda x: to_number(x, column_number))\n",
    "print('Done.')"
   ]
  },
  {
   "cell_type": "code",
   "execution_count": 12,
   "metadata": {},
   "outputs": [],
   "source": [
    "# train = train.drop('Delay', axis=1)\n",
    "train.to_parquet('baseline_train.parquet', index=False)\n",
    "test.to_parquet('baseline_test.parquet', index=False)"
   ]
  },
  {
   "attachments": {},
   "cell_type": "markdown",
   "metadata": {},
   "source": [
    "# Preprocessing_1"
   ]
  },
  {
   "attachments": {},
   "cell_type": "markdown",
   "metadata": {},
   "source": [
    "1. 레이블을 제외한 컬럼의 결측치 처리<br>\n",
    "    Origin_State, Destination_State -> 다른 행의 데이터를 참조하여 설정\n",
    "2. 질적 변수 수치화\n",
    "3. 레이블 비지도학습으로 처리"
   ]
  },
  {
   "cell_type": "code",
   "execution_count": 84,
   "metadata": {},
   "outputs": [],
   "source": [
    "import pandas as pd\n",
    "import numpy as np\n",
    "import random\n",
    "import os\n",
    "\n",
    "from tqdm import tqdm\n",
    "from sklearn.preprocessing import LabelEncoder\n",
    "\n",
    "def seed_everything(seed):\n",
    "    random.seed(seed)\n",
    "    os.environ['PYTHONHASHSEED'] = str(seed)\n",
    "    np.random.seed(seed)\n",
    "    \n",
    "seed_everything(42)"
   ]
  },
  {
   "cell_type": "code",
   "execution_count": 271,
   "metadata": {},
   "outputs": [],
   "source": [
    "train = pd.read_parquet('./train.parquet').drop('ID', axis=1)\n",
    "test = pd.read_parquet('./train.parquet').drop('ID', axis=1)"
   ]
  },
  {
   "cell_type": "code",
   "execution_count": 268,
   "metadata": {},
   "outputs": [
    {
     "data": {
      "text/html": [
       "<div>\n",
       "<style scoped>\n",
       "    .dataframe tbody tr th:only-of-type {\n",
       "        vertical-align: middle;\n",
       "    }\n",
       "\n",
       "    .dataframe tbody tr th {\n",
       "        vertical-align: top;\n",
       "    }\n",
       "\n",
       "    .dataframe thead th {\n",
       "        text-align: right;\n",
       "    }\n",
       "</style>\n",
       "<table border=\"1\" class=\"dataframe\">\n",
       "  <thead>\n",
       "    <tr style=\"text-align: right;\">\n",
       "      <th></th>\n",
       "      <th>Month</th>\n",
       "      <th>Day_of_Month</th>\n",
       "      <th>Estimated_Departure_Time</th>\n",
       "      <th>Estimated_Arrival_Time</th>\n",
       "      <th>Cancelled</th>\n",
       "      <th>Diverted</th>\n",
       "      <th>Origin_Airport</th>\n",
       "      <th>Origin_Airport_ID</th>\n",
       "      <th>Origin_State</th>\n",
       "      <th>Destination_Airport</th>\n",
       "      <th>Destination_Airport_ID</th>\n",
       "      <th>Destination_State</th>\n",
       "      <th>Distance</th>\n",
       "      <th>Airline</th>\n",
       "      <th>Carrier_Code(IATA)</th>\n",
       "      <th>Carrier_ID(DOT)</th>\n",
       "      <th>Tail_Number</th>\n",
       "      <th>Delay</th>\n",
       "    </tr>\n",
       "  </thead>\n",
       "  <tbody>\n",
       "    <tr>\n",
       "      <th>0</th>\n",
       "      <td>4</td>\n",
       "      <td>15</td>\n",
       "      <td>NaN</td>\n",
       "      <td>NaN</td>\n",
       "      <td>0</td>\n",
       "      <td>0</td>\n",
       "      <td>OKC</td>\n",
       "      <td>13851</td>\n",
       "      <td>Oklahoma</td>\n",
       "      <td>HOU</td>\n",
       "      <td>12191</td>\n",
       "      <td>Texas</td>\n",
       "      <td>419.0</td>\n",
       "      <td>Southwest Airlines Co.</td>\n",
       "      <td>WN</td>\n",
       "      <td>19393.0</td>\n",
       "      <td>N7858A</td>\n",
       "      <td>None</td>\n",
       "    </tr>\n",
       "    <tr>\n",
       "      <th>1</th>\n",
       "      <td>8</td>\n",
       "      <td>15</td>\n",
       "      <td>740.0</td>\n",
       "      <td>1024.0</td>\n",
       "      <td>0</td>\n",
       "      <td>0</td>\n",
       "      <td>ORD</td>\n",
       "      <td>13930</td>\n",
       "      <td>Illinois</td>\n",
       "      <td>SLC</td>\n",
       "      <td>14869</td>\n",
       "      <td>Utah</td>\n",
       "      <td>1250.0</td>\n",
       "      <td>SkyWest Airlines Inc.</td>\n",
       "      <td>UA</td>\n",
       "      <td>20304.0</td>\n",
       "      <td>N125SY</td>\n",
       "      <td>None</td>\n",
       "    </tr>\n",
       "    <tr>\n",
       "      <th>2</th>\n",
       "      <td>9</td>\n",
       "      <td>6</td>\n",
       "      <td>1610.0</td>\n",
       "      <td>1805.0</td>\n",
       "      <td>0</td>\n",
       "      <td>0</td>\n",
       "      <td>CLT</td>\n",
       "      <td>11057</td>\n",
       "      <td>North Carolina</td>\n",
       "      <td>LGA</td>\n",
       "      <td>12953</td>\n",
       "      <td>New York</td>\n",
       "      <td>544.0</td>\n",
       "      <td>American Airlines Inc.</td>\n",
       "      <td>AA</td>\n",
       "      <td>19805.0</td>\n",
       "      <td>N103US</td>\n",
       "      <td>None</td>\n",
       "    </tr>\n",
       "    <tr>\n",
       "      <th>3</th>\n",
       "      <td>7</td>\n",
       "      <td>10</td>\n",
       "      <td>905.0</td>\n",
       "      <td>1735.0</td>\n",
       "      <td>0</td>\n",
       "      <td>0</td>\n",
       "      <td>LAX</td>\n",
       "      <td>12892</td>\n",
       "      <td>California</td>\n",
       "      <td>EWR</td>\n",
       "      <td>11618</td>\n",
       "      <td>New Jersey</td>\n",
       "      <td>2454.0</td>\n",
       "      <td>United Air Lines Inc.</td>\n",
       "      <td>UA</td>\n",
       "      <td>NaN</td>\n",
       "      <td>N595UA</td>\n",
       "      <td>None</td>\n",
       "    </tr>\n",
       "    <tr>\n",
       "      <th>4</th>\n",
       "      <td>1</td>\n",
       "      <td>11</td>\n",
       "      <td>900.0</td>\n",
       "      <td>1019.0</td>\n",
       "      <td>0</td>\n",
       "      <td>0</td>\n",
       "      <td>SFO</td>\n",
       "      <td>14771</td>\n",
       "      <td>California</td>\n",
       "      <td>ACV</td>\n",
       "      <td>10157</td>\n",
       "      <td>California</td>\n",
       "      <td>250.0</td>\n",
       "      <td>SkyWest Airlines Inc.</td>\n",
       "      <td>UA</td>\n",
       "      <td>20304.0</td>\n",
       "      <td>N161SY</td>\n",
       "      <td>None</td>\n",
       "    </tr>\n",
       "  </tbody>\n",
       "</table>\n",
       "</div>"
      ],
      "text/plain": [
       "   Month  Day_of_Month  Estimated_Departure_Time  Estimated_Arrival_Time  \\\n",
       "0      4            15                       NaN                     NaN   \n",
       "1      8            15                     740.0                  1024.0   \n",
       "2      9             6                    1610.0                  1805.0   \n",
       "3      7            10                     905.0                  1735.0   \n",
       "4      1            11                     900.0                  1019.0   \n",
       "\n",
       "   Cancelled  Diverted Origin_Airport  Origin_Airport_ID    Origin_State  \\\n",
       "0          0         0            OKC              13851        Oklahoma   \n",
       "1          0         0            ORD              13930        Illinois   \n",
       "2          0         0            CLT              11057  North Carolina   \n",
       "3          0         0            LAX              12892      California   \n",
       "4          0         0            SFO              14771      California   \n",
       "\n",
       "  Destination_Airport  Destination_Airport_ID Destination_State  Distance  \\\n",
       "0                 HOU                   12191             Texas     419.0   \n",
       "1                 SLC                   14869              Utah    1250.0   \n",
       "2                 LGA                   12953          New York     544.0   \n",
       "3                 EWR                   11618        New Jersey    2454.0   \n",
       "4                 ACV                   10157        California     250.0   \n",
       "\n",
       "                  Airline Carrier_Code(IATA)  Carrier_ID(DOT) Tail_Number  \\\n",
       "0  Southwest Airlines Co.                 WN          19393.0      N7858A   \n",
       "1   SkyWest Airlines Inc.                 UA          20304.0      N125SY   \n",
       "2  American Airlines Inc.                 AA          19805.0      N103US   \n",
       "3   United Air Lines Inc.                 UA              NaN      N595UA   \n",
       "4   SkyWest Airlines Inc.                 UA          20304.0      N161SY   \n",
       "\n",
       "  Delay  \n",
       "0  None  \n",
       "1  None  \n",
       "2  None  \n",
       "3  None  \n",
       "4  None  "
      ]
     },
     "execution_count": 268,
     "metadata": {},
     "output_type": "execute_result"
    }
   ],
   "source": [
    "train.head()"
   ]
  },
  {
   "cell_type": "code",
   "execution_count": 274,
   "metadata": {},
   "outputs": [],
   "source": [
    "# 모든 값이 0 인 Cancelled, Diverted 컬럼 제거\n",
    "train['Cancelled'].value_counts(),train['Diverted'].value_counts()\n",
    "train.drop(['Cancelled','Diverted'], axis=1, inplace=True)\n",
    "test.drop(['Cancelled','Diverted'], axis=1, inplace=True)"
   ]
  },
  {
   "cell_type": "code",
   "execution_count": 275,
   "metadata": {},
   "outputs": [
    {
     "name": "stdout",
     "output_type": "stream",
     "text": [
      "<class 'pandas.core.frame.DataFrame'>\n",
      "RangeIndex: 1000000 entries, 0 to 999999\n",
      "Data columns (total 16 columns):\n",
      " #   Column                    Non-Null Count    Dtype  \n",
      "---  ------                    --------------    -----  \n",
      " 0   Month                     1000000 non-null  int64  \n",
      " 1   Day_of_Month              1000000 non-null  int64  \n",
      " 2   Estimated_Departure_Time  890981 non-null   float64\n",
      " 3   Estimated_Arrival_Time    890960 non-null   float64\n",
      " 4   Origin_Airport            1000000 non-null  object \n",
      " 5   Origin_Airport_ID         1000000 non-null  int64  \n",
      " 6   Origin_State              890985 non-null   object \n",
      " 7   Destination_Airport       1000000 non-null  object \n",
      " 8   Destination_Airport_ID    1000000 non-null  int64  \n",
      " 9   Destination_State         890921 non-null   object \n",
      " 10  Distance                  1000000 non-null  float64\n",
      " 11  Airline                   891080 non-null   object \n",
      " 12  Carrier_Code(IATA)        891010 non-null   object \n",
      " 13  Carrier_ID(DOT)           891003 non-null   float64\n",
      " 14  Tail_Number               1000000 non-null  object \n",
      " 15  Delay                     255001 non-null   object \n",
      "dtypes: float64(4), int64(4), object(8)\n",
      "memory usage: 122.1+ MB\n"
     ]
    }
   ],
   "source": [
    "train.info()"
   ]
  },
  {
   "attachments": {},
   "cell_type": "markdown",
   "metadata": {},
   "source": [
    "## Origin_State, Destination_State 전처리\n",
    "- Airport or Airport_ID를 기반으로 결측치 처리"
   ]
  },
  {
   "cell_type": "code",
   "execution_count": 276,
   "metadata": {},
   "outputs": [
    {
     "name": "stderr",
     "output_type": "stream",
     "text": [
      "100%|██████████| 374/374 [00:14<00:00, 26.39it/s]\n"
     ]
    }
   ],
   "source": [
    "# Origin_State 처리 - Origin_Airport 혹은 Origin_Airport_ID 를 기반으로 Origin_State의 결측치 처리\n",
    "origin = train[['Origin_Airport','Origin_Airport_ID','Origin_State']]\n",
    "# Origin_Airport 사용\n",
    "iata = list(origin['Origin_Airport'].unique())\n",
    "state_dict = {}\n",
    "\n",
    "for code in tqdm(iata):\n",
    "    val = origin[origin['Origin_Airport'] == code]['Origin_State'].value_counts().index[0]\n",
    "    key = code\n",
    "    state_dict[key] = val\n",
    "\n",
    "origin_ = pd.DataFrame(state_dict, index=[0]).transpose().reset_index()\n",
    "origin_.columns=['Origin_Airport','Origin_State']"
   ]
  },
  {
   "cell_type": "code",
   "execution_count": 277,
   "metadata": {},
   "outputs": [],
   "source": [
    "train = pd.merge(train, origin_, how='inner', left_on='Origin_Airport', right_on='Origin_Airport').drop('Origin_State_x', axis=1).rename(columns={'Origin_State_y':'Origin_State'})"
   ]
  },
  {
   "cell_type": "code",
   "execution_count": 278,
   "metadata": {},
   "outputs": [
    {
     "name": "stderr",
     "output_type": "stream",
     "text": [
      "100%|██████████| 375/375 [00:14<00:00, 26.45it/s]\n"
     ]
    }
   ],
   "source": [
    "# Destination_State 처리 - Destination_Airport 혹은 Destination_Airport_ID 를 기반으로 Destination_State의 결측치 처리\n",
    "Destination = train[['Destination_Airport','Destination_Airport_ID','Destination_State']]\n",
    "# Destination_Airport 사용\n",
    "iata = list(Destination['Destination_Airport'].unique())\n",
    "state_dict = {}\n",
    "\n",
    "for code in tqdm(iata):\n",
    "    key = code\n",
    "    # Destination_Airport가 'YNG' 일 경우는 Destination_State 정보가 없어 직접 검색한 정보를 기반으로 처리\n",
    "    if key == 'YNG':\n",
    "        state_dict[key] = 'Ohio'\n",
    "    else:\n",
    "        val = Destination[Destination['Destination_Airport'] == code]['Destination_State'].value_counts().index[0]\n",
    "        state_dict[key] = val\n",
    "\n",
    "Destination_ = pd.DataFrame(state_dict, index=[0]).transpose().reset_index()\n",
    "Destination_.columns=['Destination_Airport','Destination_State']"
   ]
  },
  {
   "cell_type": "code",
   "execution_count": 279,
   "metadata": {},
   "outputs": [],
   "source": [
    "train = pd.merge(train, Destination_, how='inner', left_on='Destination_Airport', right_on='Destination_Airport').drop('Destination_State_x', axis=1).rename(columns={'Destination_State_y':'Destination_State'})"
   ]
  },
  {
   "cell_type": "code",
   "execution_count": 284,
   "metadata": {},
   "outputs": [
    {
     "data": {
      "text/html": [
       "<div>\n",
       "<style scoped>\n",
       "    .dataframe tbody tr th:only-of-type {\n",
       "        vertical-align: middle;\n",
       "    }\n",
       "\n",
       "    .dataframe tbody tr th {\n",
       "        vertical-align: top;\n",
       "    }\n",
       "\n",
       "    .dataframe thead th {\n",
       "        text-align: right;\n",
       "    }\n",
       "</style>\n",
       "<table border=\"1\" class=\"dataframe\">\n",
       "  <thead>\n",
       "    <tr style=\"text-align: right;\">\n",
       "      <th></th>\n",
       "      <th>Month</th>\n",
       "      <th>Day_of_Month</th>\n",
       "      <th>Estimated_Departure_Time</th>\n",
       "      <th>Estimated_Arrival_Time</th>\n",
       "      <th>Origin_Airport</th>\n",
       "      <th>Origin_Airport_ID</th>\n",
       "      <th>Origin_State</th>\n",
       "      <th>Destination_Airport</th>\n",
       "      <th>Destination_Airport_ID</th>\n",
       "      <th>Destination_State</th>\n",
       "      <th>Distance</th>\n",
       "      <th>Airline</th>\n",
       "      <th>Carrier_Code(IATA)</th>\n",
       "      <th>Carrier_ID(DOT)</th>\n",
       "      <th>Tail_Number</th>\n",
       "      <th>Delay</th>\n",
       "    </tr>\n",
       "  </thead>\n",
       "  <tbody>\n",
       "    <tr>\n",
       "      <th>0</th>\n",
       "      <td>4</td>\n",
       "      <td>15</td>\n",
       "      <td>NaN</td>\n",
       "      <td>NaN</td>\n",
       "      <td>OKC</td>\n",
       "      <td>13851</td>\n",
       "      <td>Oklahoma</td>\n",
       "      <td>HOU</td>\n",
       "      <td>12191</td>\n",
       "      <td>Texas</td>\n",
       "      <td>419.0</td>\n",
       "      <td>Southwest Airlines Co.</td>\n",
       "      <td>WN</td>\n",
       "      <td>19393.0</td>\n",
       "      <td>N7858A</td>\n",
       "      <td>None</td>\n",
       "    </tr>\n",
       "    <tr>\n",
       "      <th>1</th>\n",
       "      <td>7</td>\n",
       "      <td>16</td>\n",
       "      <td>550.0</td>\n",
       "      <td>715.0</td>\n",
       "      <td>OKC</td>\n",
       "      <td>13851</td>\n",
       "      <td>Oklahoma</td>\n",
       "      <td>HOU</td>\n",
       "      <td>12191</td>\n",
       "      <td>Texas</td>\n",
       "      <td>419.0</td>\n",
       "      <td>Southwest Airlines Co.</td>\n",
       "      <td>WN</td>\n",
       "      <td>19393.0</td>\n",
       "      <td>N733SA</td>\n",
       "      <td>None</td>\n",
       "    </tr>\n",
       "    <tr>\n",
       "      <th>2</th>\n",
       "      <td>1</td>\n",
       "      <td>13</td>\n",
       "      <td>1405.0</td>\n",
       "      <td>1535.0</td>\n",
       "      <td>OKC</td>\n",
       "      <td>13851</td>\n",
       "      <td>Oklahoma</td>\n",
       "      <td>HOU</td>\n",
       "      <td>12191</td>\n",
       "      <td>Texas</td>\n",
       "      <td>419.0</td>\n",
       "      <td>Southwest Airlines Co.</td>\n",
       "      <td>WN</td>\n",
       "      <td>19393.0</td>\n",
       "      <td>N204WN</td>\n",
       "      <td>None</td>\n",
       "    </tr>\n",
       "  </tbody>\n",
       "</table>\n",
       "</div>"
      ],
      "text/plain": [
       "   Month  Day_of_Month  Estimated_Departure_Time  Estimated_Arrival_Time  \\\n",
       "0      4            15                       NaN                     NaN   \n",
       "1      7            16                     550.0                   715.0   \n",
       "2      1            13                    1405.0                  1535.0   \n",
       "\n",
       "  Origin_Airport  Origin_Airport_ID Origin_State Destination_Airport  \\\n",
       "0            OKC              13851     Oklahoma                 HOU   \n",
       "1            OKC              13851     Oklahoma                 HOU   \n",
       "2            OKC              13851     Oklahoma                 HOU   \n",
       "\n",
       "   Destination_Airport_ID Destination_State  Distance                 Airline  \\\n",
       "0                   12191             Texas     419.0  Southwest Airlines Co.   \n",
       "1                   12191             Texas     419.0  Southwest Airlines Co.   \n",
       "2                   12191             Texas     419.0  Southwest Airlines Co.   \n",
       "\n",
       "  Carrier_Code(IATA)  Carrier_ID(DOT) Tail_Number Delay  \n",
       "0                 WN          19393.0      N7858A  None  \n",
       "1                 WN          19393.0      N733SA  None  \n",
       "2                 WN          19393.0      N204WN  None  "
      ]
     },
     "execution_count": 284,
     "metadata": {},
     "output_type": "execute_result"
    }
   ],
   "source": [
    "# 컬럼의 순서 원위치\n",
    "train = train[pd.read_parquet('./train.parquet').drop(['ID','Cancelled','Diverted'], axis=1).columns]\n",
    "train.head(3)"
   ]
  },
  {
   "cell_type": "code",
   "execution_count": 285,
   "metadata": {},
   "outputs": [
    {
     "name": "stdout",
     "output_type": "stream",
     "text": [
      "<class 'pandas.core.frame.DataFrame'>\n",
      "Int64Index: 1000000 entries, 0 to 999999\n",
      "Data columns (total 16 columns):\n",
      " #   Column                    Non-Null Count    Dtype  \n",
      "---  ------                    --------------    -----  \n",
      " 0   Month                     1000000 non-null  int64  \n",
      " 1   Day_of_Month              1000000 non-null  int64  \n",
      " 2   Estimated_Departure_Time  890981 non-null   float64\n",
      " 3   Estimated_Arrival_Time    890960 non-null   float64\n",
      " 4   Origin_Airport            1000000 non-null  object \n",
      " 5   Origin_Airport_ID         1000000 non-null  int64  \n",
      " 6   Origin_State              1000000 non-null  object \n",
      " 7   Destination_Airport       1000000 non-null  object \n",
      " 8   Destination_Airport_ID    1000000 non-null  int64  \n",
      " 9   Destination_State         1000000 non-null  object \n",
      " 10  Distance                  1000000 non-null  float64\n",
      " 11  Airline                   891080 non-null   object \n",
      " 12  Carrier_Code(IATA)        891010 non-null   object \n",
      " 13  Carrier_ID(DOT)           891003 non-null   float64\n",
      " 14  Tail_Number               1000000 non-null  object \n",
      " 15  Delay                     255001 non-null   object \n",
      "dtypes: float64(4), int64(4), object(8)\n",
      "memory usage: 129.7+ MB\n"
     ]
    }
   ],
   "source": [
    "train.info()"
   ]
  },
  {
   "attachments": {},
   "cell_type": "markdown",
   "metadata": {},
   "source": [
    "## Airline, Carrier_Code(IATA), Carrier_ID(DOT) 전처리\n",
    "- Airline, Carrier_Code(IATA)의 결측치 값 : None\n",
    "- Carrier_ID(DOT)의 결측치 값 : nan"
   ]
  },
  {
   "cell_type": "code",
   "execution_count": 410,
   "metadata": {},
   "outputs": [
    {
     "name": "stdout",
     "output_type": "stream",
     "text": [
      "<class 'pandas.core.frame.DataFrame'>\n",
      "Int64Index: 1000000 entries, 0 to 999999\n",
      "Data columns (total 4 columns):\n",
      " #   Column              Non-Null Count    Dtype  \n",
      "---  ------              --------------    -----  \n",
      " 0   Airline             891080 non-null   object \n",
      " 1   Carrier_Code(IATA)  891010 non-null   object \n",
      " 2   Carrier_ID(DOT)     1000000 non-null  float64\n",
      " 3   Tail_Number         1000000 non-null  object \n",
      "dtypes: float64(1), object(3)\n",
      "memory usage: 38.1+ MB\n"
     ]
    },
    {
     "name": "stderr",
     "output_type": "stream",
     "text": [
      "C:\\Users\\user\\AppData\\Local\\Temp\\ipykernel_20412\\4096829298.py:4: SettingWithCopyWarning: \n",
      "A value is trying to be set on a copy of a slice from a DataFrame\n",
      "\n",
      "See the caveats in the documentation: https://pandas.pydata.org/pandas-docs/stable/user_guide/indexing.html#returning-a-view-versus-a-copy\n",
      "  hmm['Carrier_ID(DOT)'].fillna(0, inplace=True)\n"
     ]
    }
   ],
   "source": [
    "# Carrier_ID(DOT)의 결측치 값 0으로 임시 처리\n",
    "\n",
    "hmm = train[['Airline','Carrier_Code(IATA)','Carrier_ID(DOT)','Tail_Number']]\n",
    "hmm['Carrier_ID(DOT)'].fillna(0, inplace=True)\n",
    "hmm.info()"
   ]
  },
  {
   "cell_type": "code",
   "execution_count": null,
   "metadata": {},
   "outputs": [],
   "source": [
    "# 각 Airline은 고유한 Carrier_ID(DOT)를 가지는 것을 확인\n",
    "lst = list(hmm['Airline'].unique())\n",
    "lst.remove(None)\n",
    "\n",
    "i = 0\n",
    "count = 0\n",
    "ind = []\n",
    "\n",
    "for airline in tqdm(lst):\n",
    "    check = hmm[hmm['Airline'] == airline]\n",
    "    check = list(check['Carrier_ID(DOT)'].unique())\n",
    "    try:\n",
    "        check.remove(0)\n",
    "    except:\n",
    "        print('Not None')\n",
    "    print(check)\n",
    "    if len(check) != 1:\n",
    "        count += 1\n",
    "        ind.append(i)\n",
    "\n",
    "    i += 1\n",
    "\n",
    "print(count)\n",
    "print(ind)"
   ]
  },
  {
   "cell_type": "code",
   "execution_count": 384,
   "metadata": {},
   "outputs": [
    {
     "name": "stderr",
     "output_type": "stream",
     "text": [
      "100%|██████████| 28/28 [00:00<00:00, 28.75it/s]\n"
     ]
    }
   ],
   "source": [
    "# Carrier_ID(DOT) 처리 - Airline을 기반으로 Carrier_ID(DOT)의 결측치 처리\n",
    "DOT = hmm[['Airline','Carrier_ID(DOT)']]\n",
    "\n",
    "airlines = list(hmm['Airline'].unique())\n",
    "airlines.remove(None)\n",
    "state_dict = {}\n",
    "\n",
    "for airline in tqdm(airlines):\n",
    "    key = airline\n",
    "    check = hmm[hmm['Airline'] == key]\n",
    "    check = list(check['Carrier_ID(DOT)'].unique())\n",
    "    try:\n",
    "        check.remove(0)\n",
    "    except:\n",
    "        pass\n",
    "    val = check[0]\n",
    "    state_dict[key] = val\n",
    "\n",
    "DOT_ = pd.DataFrame(state_dict, index=[0]).transpose().reset_index()\n",
    "DOT_.columns=['Airline','Carrier_ID(DOT)']"
   ]
  },
  {
   "cell_type": "code",
   "execution_count": 411,
   "metadata": {},
   "outputs": [],
   "source": [
    "hmm = pd.merge(hmm, DOT_, how='left', left_on='Airline', right_on='Airline')\n",
    "hmm['Carrier_ID(DOT)_y'].fillna(0, inplace=True)"
   ]
  },
  {
   "cell_type": "code",
   "execution_count": 412,
   "metadata": {},
   "outputs": [
    {
     "name": "stderr",
     "output_type": "stream",
     "text": [
      "  0%|          | 0/1000000 [00:00<?, ?it/s]C:\\Users\\user\\AppData\\Local\\Temp\\ipykernel_20412\\2495575261.py:3: SettingWithCopyWarning: \n",
      "A value is trying to be set on a copy of a slice from a DataFrame\n",
      "\n",
      "See the caveats in the documentation: https://pandas.pydata.org/pandas-docs/stable/user_guide/indexing.html#returning-a-view-versus-a-copy\n",
      "  hmm['Carrier_ID(DOT)_x'][i] = hmm['Carrier_ID(DOT)_y'][i]\n",
      "100%|██████████| 1000000/1000000 [00:17<00:00, 57220.53it/s]\n"
     ]
    }
   ],
   "source": [
    "for i in tqdm(range(len(hmm))):\n",
    "    if np.logical_and(hmm['Carrier_ID(DOT)_x'][i]==0,hmm['Carrier_ID(DOT)_y'][i]!=0):\n",
    "        hmm['Carrier_ID(DOT)_x'][i] = hmm['Carrier_ID(DOT)_y'][i]"
   ]
  },
  {
   "cell_type": "code",
   "execution_count": 413,
   "metadata": {},
   "outputs": [
    {
     "data": {
      "text/html": [
       "<div>\n",
       "<style scoped>\n",
       "    .dataframe tbody tr th:only-of-type {\n",
       "        vertical-align: middle;\n",
       "    }\n",
       "\n",
       "    .dataframe tbody tr th {\n",
       "        vertical-align: top;\n",
       "    }\n",
       "\n",
       "    .dataframe thead th {\n",
       "        text-align: right;\n",
       "    }\n",
       "</style>\n",
       "<table border=\"1\" class=\"dataframe\">\n",
       "  <thead>\n",
       "    <tr style=\"text-align: right;\">\n",
       "      <th></th>\n",
       "      <th>Airline</th>\n",
       "      <th>Carrier_Code(IATA)</th>\n",
       "      <th>Carrier_ID(DOT)</th>\n",
       "      <th>Tail_Number</th>\n",
       "    </tr>\n",
       "  </thead>\n",
       "  <tbody>\n",
       "    <tr>\n",
       "      <th>0</th>\n",
       "      <td>Southwest Airlines Co.</td>\n",
       "      <td>WN</td>\n",
       "      <td>19393.0</td>\n",
       "      <td>N7858A</td>\n",
       "    </tr>\n",
       "    <tr>\n",
       "      <th>1</th>\n",
       "      <td>Southwest Airlines Co.</td>\n",
       "      <td>WN</td>\n",
       "      <td>19393.0</td>\n",
       "      <td>N733SA</td>\n",
       "    </tr>\n",
       "  </tbody>\n",
       "</table>\n",
       "</div>"
      ],
      "text/plain": [
       "                  Airline Carrier_Code(IATA)  Carrier_ID(DOT) Tail_Number\n",
       "0  Southwest Airlines Co.                 WN          19393.0      N7858A\n",
       "1  Southwest Airlines Co.                 WN          19393.0      N733SA"
      ]
     },
     "execution_count": 413,
     "metadata": {},
     "output_type": "execute_result"
    }
   ],
   "source": [
    "hmm = hmm.rename(columns={'Carrier_ID(DOT)_x':'Carrier_ID(DOT)'}).drop('Carrier_ID(DOT)_y', axis=1)\n",
    "hmm.head(2)"
   ]
  },
  {
   "cell_type": "code",
   "execution_count": 414,
   "metadata": {},
   "outputs": [
    {
     "name": "stdout",
     "output_type": "stream",
     "text": [
      "<class 'pandas.core.frame.DataFrame'>\n",
      "Int64Index: 1000000 entries, 0 to 999999\n",
      "Data columns (total 4 columns):\n",
      " #   Column              Non-Null Count    Dtype  \n",
      "---  ------              --------------    -----  \n",
      " 0   Airline             891080 non-null   object \n",
      " 1   Carrier_Code(IATA)  891010 non-null   object \n",
      " 2   Carrier_ID(DOT)     988117 non-null   float64\n",
      " 3   Tail_Number         1000000 non-null  object \n",
      "dtypes: float64(1), object(3)\n",
      "memory usage: 38.1+ MB\n"
     ]
    }
   ],
   "source": [
    "def zero_to_nan(x):\n",
    "    if x == 0: return np.nan\n",
    "    else: return x\n",
    "\n",
    "hmm['Carrier_ID(DOT)'] = hmm['Carrier_ID(DOT)'].apply(zero_to_nan)\n",
    "hmm.info()"
   ]
  },
  {
   "cell_type": "code",
   "execution_count": 387,
   "metadata": {},
   "outputs": [
    {
     "data": {
      "text/html": [
       "<div>\n",
       "<style scoped>\n",
       "    .dataframe tbody tr th:only-of-type {\n",
       "        vertical-align: middle;\n",
       "    }\n",
       "\n",
       "    .dataframe tbody tr th {\n",
       "        vertical-align: top;\n",
       "    }\n",
       "\n",
       "    .dataframe thead th {\n",
       "        text-align: right;\n",
       "    }\n",
       "</style>\n",
       "<table border=\"1\" class=\"dataframe\">\n",
       "  <thead>\n",
       "    <tr style=\"text-align: right;\">\n",
       "      <th></th>\n",
       "      <th>Airline</th>\n",
       "      <th>Carrier_Code(IATA)</th>\n",
       "      <th>Carrier_ID(DOT)_x</th>\n",
       "      <th>Tail_Number</th>\n",
       "      <th>Carrier_ID(DOT)_y</th>\n",
       "    </tr>\n",
       "  </thead>\n",
       "  <tbody>\n",
       "    <tr>\n",
       "      <th>9</th>\n",
       "      <td>Southwest Airlines Co.</td>\n",
       "      <td>WN</td>\n",
       "      <td>0.0</td>\n",
       "      <td>N7722B</td>\n",
       "      <td>19393.0</td>\n",
       "    </tr>\n",
       "    <tr>\n",
       "      <th>22</th>\n",
       "      <td>Southwest Airlines Co.</td>\n",
       "      <td>WN</td>\n",
       "      <td>0.0</td>\n",
       "      <td>N8318F</td>\n",
       "      <td>19393.0</td>\n",
       "    </tr>\n",
       "    <tr>\n",
       "      <th>28</th>\n",
       "      <td>None</td>\n",
       "      <td>None</td>\n",
       "      <td>0.0</td>\n",
       "      <td>N451WN</td>\n",
       "      <td>NaN</td>\n",
       "    </tr>\n",
       "    <tr>\n",
       "      <th>30</th>\n",
       "      <td>Southwest Airlines Co.</td>\n",
       "      <td>WN</td>\n",
       "      <td>0.0</td>\n",
       "      <td>N411WN</td>\n",
       "      <td>19393.0</td>\n",
       "    </tr>\n",
       "    <tr>\n",
       "      <th>31</th>\n",
       "      <td>Southwest Airlines Co.</td>\n",
       "      <td>WN</td>\n",
       "      <td>0.0</td>\n",
       "      <td>N412WN</td>\n",
       "      <td>19393.0</td>\n",
       "    </tr>\n",
       "    <tr>\n",
       "      <th>...</th>\n",
       "      <td>...</td>\n",
       "      <td>...</td>\n",
       "      <td>...</td>\n",
       "      <td>...</td>\n",
       "      <td>...</td>\n",
       "    </tr>\n",
       "    <tr>\n",
       "      <th>999941</th>\n",
       "      <td>None</td>\n",
       "      <td>UA</td>\n",
       "      <td>0.0</td>\n",
       "      <td>N862AS</td>\n",
       "      <td>NaN</td>\n",
       "    </tr>\n",
       "    <tr>\n",
       "      <th>999949</th>\n",
       "      <td>None</td>\n",
       "      <td>UA</td>\n",
       "      <td>0.0</td>\n",
       "      <td>N939SW</td>\n",
       "      <td>NaN</td>\n",
       "    </tr>\n",
       "    <tr>\n",
       "      <th>999952</th>\n",
       "      <td>SkyWest Airlines Inc.</td>\n",
       "      <td>UA</td>\n",
       "      <td>0.0</td>\n",
       "      <td>N925SW</td>\n",
       "      <td>20304.0</td>\n",
       "    </tr>\n",
       "    <tr>\n",
       "      <th>999967</th>\n",
       "      <td>SkyWest Airlines Inc.</td>\n",
       "      <td>UA</td>\n",
       "      <td>0.0</td>\n",
       "      <td>N435SW</td>\n",
       "      <td>20304.0</td>\n",
       "    </tr>\n",
       "    <tr>\n",
       "      <th>999991</th>\n",
       "      <td>SkyWest Airlines Inc.</td>\n",
       "      <td>UA</td>\n",
       "      <td>0.0</td>\n",
       "      <td>N964SW</td>\n",
       "      <td>20304.0</td>\n",
       "    </tr>\n",
       "  </tbody>\n",
       "</table>\n",
       "<p>108997 rows × 5 columns</p>\n",
       "</div>"
      ],
      "text/plain": [
       "                       Airline Carrier_Code(IATA)  Carrier_ID(DOT)_x  \\\n",
       "9       Southwest Airlines Co.                 WN                0.0   \n",
       "22      Southwest Airlines Co.                 WN                0.0   \n",
       "28                        None               None                0.0   \n",
       "30      Southwest Airlines Co.                 WN                0.0   \n",
       "31      Southwest Airlines Co.                 WN                0.0   \n",
       "...                        ...                ...                ...   \n",
       "999941                    None                 UA                0.0   \n",
       "999949                    None                 UA                0.0   \n",
       "999952   SkyWest Airlines Inc.                 UA                0.0   \n",
       "999967   SkyWest Airlines Inc.                 UA                0.0   \n",
       "999991   SkyWest Airlines Inc.                 UA                0.0   \n",
       "\n",
       "       Tail_Number  Carrier_ID(DOT)_y  \n",
       "9           N7722B            19393.0  \n",
       "22          N8318F            19393.0  \n",
       "28          N451WN                NaN  \n",
       "30          N411WN            19393.0  \n",
       "31          N412WN            19393.0  \n",
       "...            ...                ...  \n",
       "999941      N862AS                NaN  \n",
       "999949      N939SW                NaN  \n",
       "999952      N925SW            20304.0  \n",
       "999967      N435SW            20304.0  \n",
       "999991      N964SW            20304.0  \n",
       "\n",
       "[108997 rows x 5 columns]"
      ]
     },
     "execution_count": 387,
     "metadata": {},
     "output_type": "execute_result"
    }
   ],
   "source": [
    "hmm2[hmm2['Carrier_ID(DOT)_x'].isna()]\n",
    "pd.merge(hmm, DOT_, how='left', left_on='Airline', right_on='Airline')[pd.merge(hmm, DOT_, how='left', left_on='Airline', right_on='Airline')['Carrier_ID(DOT)_x'] == 0]"
   ]
  },
  {
   "cell_type": "code",
   "execution_count": 343,
   "metadata": {},
   "outputs": [
    {
     "data": {
      "text/plain": [
       "True"
      ]
     },
     "execution_count": 343,
     "metadata": {},
     "output_type": "execute_result"
    }
   ],
   "source": [
    "np.isnan(check[1])"
   ]
  },
  {
   "cell_type": "code",
   "execution_count": 322,
   "metadata": {},
   "outputs": [
    {
     "data": {
      "text/plain": [
       "29"
      ]
     },
     "execution_count": 322,
     "metadata": {},
     "output_type": "execute_result"
    }
   ],
   "source": [
    "len(hmm['Airline'].unique())"
   ]
  },
  {
   "cell_type": "code",
   "execution_count": 320,
   "metadata": {},
   "outputs": [
    {
     "data": {
      "text/plain": [
       "array([19977.,    nan])"
      ]
     },
     "execution_count": 320,
     "metadata": {},
     "output_type": "execute_result"
    }
   ],
   "source": [
    "# hmm[hmm['Airline'] == hmm['Airline'].unique()[5]]['Carrier_Code(IATA)'].unique()\n",
    "hmm[hmm['Airline'] == hmm['Airline'].unique()[9]]['Carrier_ID(DOT)'].unique()\n",
    "# hmm[hmm['Carrier_Code(IATA)'] == 'UA']\n",
    "# hmm[['Airline','Carrier_Code(IATA)']]"
   ]
  },
  {
   "cell_type": "code",
   "execution_count": 260,
   "metadata": {},
   "outputs": [
    {
     "name": "stderr",
     "output_type": "stream",
     "text": [
      " 17%|█▋        | 1062/6430 [00:40<03:23, 26.44it/s]\n"
     ]
    },
    {
     "ename": "ValueError",
     "evalue": "list.remove(x): x not in list",
     "output_type": "error",
     "traceback": [
      "\u001b[1;31m---------------------------------------------------------------------------\u001b[0m",
      "\u001b[1;31mValueError\u001b[0m                                Traceback (most recent call last)",
      "Cell \u001b[1;32mIn[260], line 11\u001b[0m\n\u001b[0;32m      9\u001b[0m val \u001b[39m=\u001b[39m hmm[hmm[\u001b[39m'\u001b[39m\u001b[39mTail_Number\u001b[39m\u001b[39m'\u001b[39m] \u001b[39m==\u001b[39m key][\u001b[39m'\u001b[39m\u001b[39mCarrier_Code(IATA)\u001b[39m\u001b[39m'\u001b[39m]\u001b[39m.\u001b[39munique()\n\u001b[0;32m     10\u001b[0m check \u001b[39m=\u001b[39m \u001b[39mlist\u001b[39m(val)\n\u001b[1;32m---> 11\u001b[0m check\u001b[39m.\u001b[39mremove(\u001b[39mNone\u001b[39;00m)\n\u001b[0;32m     12\u001b[0m \u001b[39mif\u001b[39;00m \u001b[39mlen\u001b[39m(check) \u001b[39m!=\u001b[39m \u001b[39m1\u001b[39m:\n\u001b[0;32m     13\u001b[0m     count \u001b[39m+\u001b[39m\u001b[39m=\u001b[39m \u001b[39m1\u001b[39m\n",
      "\u001b[1;31mValueError\u001b[0m: list.remove(x): x not in list"
     ]
    }
   ],
   "source": [
    "iata = list(hmm['Tail_Number'].unique())\n",
    "# iata.remove(None)\n",
    "lst= []\n",
    "state_dict = {}\n",
    "count = 0\n",
    "i = 0\n",
    "for code in tqdm(iata):\n",
    "    key = code\n",
    "    val = hmm[hmm['Tail_Number'] == key]['Carrier_Code(IATA)'].unique()\n",
    "    check = list(val)\n",
    "    check.remove(None)\n",
    "    if len(check) != 1:\n",
    "        count += 1\n",
    "        lst.append(i)\n",
    "    i+=1\n",
    "print(lst)\n",
    "print(count)\n",
    "    # if key == 'YNG':\n",
    "    #     state_dict[key] = 'Ohio'\n",
    "    # else:\n",
    "    #     val = destination[destination['Destination_Airport'] == code]['Destination_State'].value_counts().index[0]\n",
    "    #     state_dict[key] = val"
   ]
  },
  {
   "cell_type": "code",
   "execution_count": 246,
   "metadata": {},
   "outputs": [
    {
     "name": "stderr",
     "output_type": "stream",
     "text": [
      "100%|██████████| 28/28 [00:00<00:00, 37.55it/s]\n"
     ]
    },
    {
     "data": {
      "text/plain": [
       "{'Southwest Airlines Co.': 'WN',\n",
       " 'Delta Air Lines Inc.': 'DL',\n",
       " 'JetBlue Airways': 'B6',\n",
       " 'Envoy Air': 'AA',\n",
       " 'United Air Lines Inc.': 'UA',\n",
       " 'Frontier Airlines Inc.': 'F9',\n",
       " 'American Airlines Inc.': 'AA',\n",
       " 'Spirit Air Lines': 'NK',\n",
       " 'Virgin America': 'VX',\n",
       " 'Alaska Airlines Inc.': 'AS',\n",
       " 'Air Wisconsin Airlines Corp': 'UA',\n",
       " 'Allegiant Air': 'G4',\n",
       " 'Endeavor Air Inc.': 'DL',\n",
       " 'Comair Inc.': 'AA',\n",
       " 'Commutair Aka Champlain Enterprises, Inc.': 'UA',\n",
       " 'Horizon Air': 'AS',\n",
       " 'Hawaiian Airlines Inc.': 'HA',\n",
       " 'Capital Cargo International': 'AA',\n",
       " 'Peninsula Airways Inc.': 'AS',\n",
       " 'Empire Airlines Inc.': 'HA',\n",
       " 'Cape Air': 'UA'}"
      ]
     },
     "execution_count": 246,
     "metadata": {},
     "output_type": "execute_result"
    }
   ],
   "source": [
    "iata = list(hmm['Airline'].unique())\n",
    "iata.remove(None)\n",
    "# lst= []\n",
    "state_dict = {}\n",
    "i = 0\n",
    "for code in tqdm(iata):\n",
    "    if i not in lst:\n",
    "        key = code\n",
    "        val = hmm[hmm['Airline'] == key]['Carrier_Code(IATA)'].unique()\n",
    "        val = list(val)\n",
    "        val.remove(None)\n",
    "        state_dict[key] = val[0]\n",
    "    i+=1\n",
    "\n",
    "state_dict"
   ]
  },
  {
   "cell_type": "code",
   "execution_count": 247,
   "metadata": {},
   "outputs": [
    {
     "data": {
      "text/html": [
       "<div>\n",
       "<style scoped>\n",
       "    .dataframe tbody tr th:only-of-type {\n",
       "        vertical-align: middle;\n",
       "    }\n",
       "\n",
       "    .dataframe tbody tr th {\n",
       "        vertical-align: top;\n",
       "    }\n",
       "\n",
       "    .dataframe thead th {\n",
       "        text-align: right;\n",
       "    }\n",
       "</style>\n",
       "<table border=\"1\" class=\"dataframe\">\n",
       "  <thead>\n",
       "    <tr style=\"text-align: right;\">\n",
       "      <th></th>\n",
       "      <th>Airline</th>\n",
       "      <th>Carrier_Code(IATA)</th>\n",
       "    </tr>\n",
       "  </thead>\n",
       "  <tbody>\n",
       "    <tr>\n",
       "      <th>0</th>\n",
       "      <td>Southwest Airlines Co.</td>\n",
       "      <td>WN</td>\n",
       "    </tr>\n",
       "    <tr>\n",
       "      <th>1</th>\n",
       "      <td>Delta Air Lines Inc.</td>\n",
       "      <td>DL</td>\n",
       "    </tr>\n",
       "    <tr>\n",
       "      <th>2</th>\n",
       "      <td>JetBlue Airways</td>\n",
       "      <td>B6</td>\n",
       "    </tr>\n",
       "    <tr>\n",
       "      <th>3</th>\n",
       "      <td>Envoy Air</td>\n",
       "      <td>AA</td>\n",
       "    </tr>\n",
       "    <tr>\n",
       "      <th>4</th>\n",
       "      <td>United Air Lines Inc.</td>\n",
       "      <td>UA</td>\n",
       "    </tr>\n",
       "    <tr>\n",
       "      <th>5</th>\n",
       "      <td>Frontier Airlines Inc.</td>\n",
       "      <td>F9</td>\n",
       "    </tr>\n",
       "    <tr>\n",
       "      <th>6</th>\n",
       "      <td>American Airlines Inc.</td>\n",
       "      <td>AA</td>\n",
       "    </tr>\n",
       "    <tr>\n",
       "      <th>7</th>\n",
       "      <td>Spirit Air Lines</td>\n",
       "      <td>NK</td>\n",
       "    </tr>\n",
       "    <tr>\n",
       "      <th>8</th>\n",
       "      <td>Virgin America</td>\n",
       "      <td>VX</td>\n",
       "    </tr>\n",
       "    <tr>\n",
       "      <th>9</th>\n",
       "      <td>Alaska Airlines Inc.</td>\n",
       "      <td>AS</td>\n",
       "    </tr>\n",
       "    <tr>\n",
       "      <th>10</th>\n",
       "      <td>Air Wisconsin Airlines Corp</td>\n",
       "      <td>UA</td>\n",
       "    </tr>\n",
       "    <tr>\n",
       "      <th>11</th>\n",
       "      <td>Allegiant Air</td>\n",
       "      <td>G4</td>\n",
       "    </tr>\n",
       "    <tr>\n",
       "      <th>12</th>\n",
       "      <td>Endeavor Air Inc.</td>\n",
       "      <td>DL</td>\n",
       "    </tr>\n",
       "    <tr>\n",
       "      <th>13</th>\n",
       "      <td>Comair Inc.</td>\n",
       "      <td>AA</td>\n",
       "    </tr>\n",
       "    <tr>\n",
       "      <th>14</th>\n",
       "      <td>Commutair Aka Champlain Enterprises, Inc.</td>\n",
       "      <td>UA</td>\n",
       "    </tr>\n",
       "    <tr>\n",
       "      <th>15</th>\n",
       "      <td>Horizon Air</td>\n",
       "      <td>AS</td>\n",
       "    </tr>\n",
       "    <tr>\n",
       "      <th>16</th>\n",
       "      <td>Hawaiian Airlines Inc.</td>\n",
       "      <td>HA</td>\n",
       "    </tr>\n",
       "    <tr>\n",
       "      <th>17</th>\n",
       "      <td>Capital Cargo International</td>\n",
       "      <td>AA</td>\n",
       "    </tr>\n",
       "    <tr>\n",
       "      <th>18</th>\n",
       "      <td>Peninsula Airways Inc.</td>\n",
       "      <td>AS</td>\n",
       "    </tr>\n",
       "    <tr>\n",
       "      <th>19</th>\n",
       "      <td>Empire Airlines Inc.</td>\n",
       "      <td>HA</td>\n",
       "    </tr>\n",
       "    <tr>\n",
       "      <th>20</th>\n",
       "      <td>Cape Air</td>\n",
       "      <td>UA</td>\n",
       "    </tr>\n",
       "  </tbody>\n",
       "</table>\n",
       "</div>"
      ],
      "text/plain": [
       "                                      Airline Carrier_Code(IATA)\n",
       "0                      Southwest Airlines Co.                 WN\n",
       "1                        Delta Air Lines Inc.                 DL\n",
       "2                             JetBlue Airways                 B6\n",
       "3                                   Envoy Air                 AA\n",
       "4                       United Air Lines Inc.                 UA\n",
       "5                      Frontier Airlines Inc.                 F9\n",
       "6                      American Airlines Inc.                 AA\n",
       "7                            Spirit Air Lines                 NK\n",
       "8                              Virgin America                 VX\n",
       "9                        Alaska Airlines Inc.                 AS\n",
       "10                Air Wisconsin Airlines Corp                 UA\n",
       "11                              Allegiant Air                 G4\n",
       "12                          Endeavor Air Inc.                 DL\n",
       "13                                Comair Inc.                 AA\n",
       "14  Commutair Aka Champlain Enterprises, Inc.                 UA\n",
       "15                                Horizon Air                 AS\n",
       "16                     Hawaiian Airlines Inc.                 HA\n",
       "17                Capital Cargo International                 AA\n",
       "18                     Peninsula Airways Inc.                 AS\n",
       "19                       Empire Airlines Inc.                 HA\n",
       "20                                   Cape Air                 UA"
      ]
     },
     "execution_count": 247,
     "metadata": {},
     "output_type": "execute_result"
    }
   ],
   "source": [
    "temp_ = pd.DataFrame(state_dict, index=[0]).transpose().reset_index()\n",
    "temp_.columns=['Airline','Carrier_Code(IATA)']\n",
    "temp_"
   ]
  },
  {
   "cell_type": "code",
   "execution_count": 253,
   "metadata": {},
   "outputs": [],
   "source": [
    "hmm2 = pd.merge(hmm, temp_, how='left', left_on='Airline',right_on='Airline')"
   ]
  },
  {
   "cell_type": "code",
   "execution_count": 252,
   "metadata": {},
   "outputs": [
    {
     "name": "stdout",
     "output_type": "stream",
     "text": [
      "<class 'pandas.core.frame.DataFrame'>\n",
      "Int64Index: 1000000 entries, 0 to 999999\n",
      "Data columns (total 4 columns):\n",
      " #   Column              Non-Null Count    Dtype  \n",
      "---  ------              --------------    -----  \n",
      " 0   Airline             891080 non-null   object \n",
      " 1   Carrier_Code(IATA)  891010 non-null   object \n",
      " 2   Carrier_ID(DOT)     891003 non-null   float64\n",
      " 3   Tail_Number         1000000 non-null  object \n",
      "dtypes: float64(1), object(3)\n",
      "memory usage: 38.1+ MB\n"
     ]
    }
   ],
   "source": [
    "hmm.info()"
   ]
  },
  {
   "cell_type": "code",
   "execution_count": 254,
   "metadata": {},
   "outputs": [
    {
     "name": "stdout",
     "output_type": "stream",
     "text": [
      "<class 'pandas.core.frame.DataFrame'>\n",
      "Int64Index: 1000000 entries, 0 to 999999\n",
      "Data columns (total 5 columns):\n",
      " #   Column                Non-Null Count    Dtype  \n",
      "---  ------                --------------    -----  \n",
      " 0   Airline               891080 non-null   object \n",
      " 1   Carrier_Code(IATA)_x  891010 non-null   object \n",
      " 2   Carrier_ID(DOT)       891003 non-null   float64\n",
      " 3   Tail_Number           1000000 non-null  object \n",
      " 4   Carrier_Code(IATA)_y  698015 non-null   object \n",
      "dtypes: float64(1), object(4)\n",
      "memory usage: 45.8+ MB\n"
     ]
    }
   ],
   "source": [
    "hmm2.info()"
   ]
  },
  {
   "cell_type": "code",
   "execution_count": 258,
   "metadata": {},
   "outputs": [
    {
     "data": {
      "text/html": [
       "<div>\n",
       "<style scoped>\n",
       "    .dataframe tbody tr th:only-of-type {\n",
       "        vertical-align: middle;\n",
       "    }\n",
       "\n",
       "    .dataframe tbody tr th {\n",
       "        vertical-align: top;\n",
       "    }\n",
       "\n",
       "    .dataframe thead th {\n",
       "        text-align: right;\n",
       "    }\n",
       "</style>\n",
       "<table border=\"1\" class=\"dataframe\">\n",
       "  <thead>\n",
       "    <tr style=\"text-align: right;\">\n",
       "      <th></th>\n",
       "      <th>Airline</th>\n",
       "      <th>Carrier_Code(IATA)_x</th>\n",
       "      <th>Carrier_ID(DOT)</th>\n",
       "      <th>Tail_Number</th>\n",
       "      <th>Carrier_Code(IATA)_y</th>\n",
       "    </tr>\n",
       "  </thead>\n",
       "  <tbody>\n",
       "    <tr>\n",
       "      <th>21</th>\n",
       "      <td>Southwest Airlines Co.</td>\n",
       "      <td>None</td>\n",
       "      <td>19393.0</td>\n",
       "      <td>N500WR</td>\n",
       "      <td>WN</td>\n",
       "    </tr>\n",
       "    <tr>\n",
       "      <th>27</th>\n",
       "      <td>Southwest Airlines Co.</td>\n",
       "      <td>None</td>\n",
       "      <td>19393.0</td>\n",
       "      <td>N725SW</td>\n",
       "      <td>WN</td>\n",
       "    </tr>\n",
       "    <tr>\n",
       "      <th>32</th>\n",
       "      <td>Southwest Airlines Co.</td>\n",
       "      <td>None</td>\n",
       "      <td>19393.0</td>\n",
       "      <td>N409WN</td>\n",
       "      <td>WN</td>\n",
       "    </tr>\n",
       "    <tr>\n",
       "      <th>36</th>\n",
       "      <td>Southwest Airlines Co.</td>\n",
       "      <td>None</td>\n",
       "      <td>19393.0</td>\n",
       "      <td>N8537Z</td>\n",
       "      <td>WN</td>\n",
       "    </tr>\n",
       "    <tr>\n",
       "      <th>48</th>\n",
       "      <td>Southwest Airlines Co.</td>\n",
       "      <td>None</td>\n",
       "      <td>NaN</td>\n",
       "      <td>N7718B</td>\n",
       "      <td>WN</td>\n",
       "    </tr>\n",
       "    <tr>\n",
       "      <th>...</th>\n",
       "      <td>...</td>\n",
       "      <td>...</td>\n",
       "      <td>...</td>\n",
       "      <td>...</td>\n",
       "      <td>...</td>\n",
       "    </tr>\n",
       "    <tr>\n",
       "      <th>999826</th>\n",
       "      <td>United Air Lines Inc.</td>\n",
       "      <td>None</td>\n",
       "      <td>19977.0</td>\n",
       "      <td>N36280</td>\n",
       "      <td>UA</td>\n",
       "    </tr>\n",
       "    <tr>\n",
       "      <th>999860</th>\n",
       "      <td>Cape Air</td>\n",
       "      <td>None</td>\n",
       "      <td>20253.0</td>\n",
       "      <td>N14834</td>\n",
       "      <td>UA</td>\n",
       "    </tr>\n",
       "    <tr>\n",
       "      <th>999875</th>\n",
       "      <td>Cape Air</td>\n",
       "      <td>None</td>\n",
       "      <td>NaN</td>\n",
       "      <td>N45838</td>\n",
       "      <td>UA</td>\n",
       "    </tr>\n",
       "    <tr>\n",
       "      <th>999882</th>\n",
       "      <td>United Air Lines Inc.</td>\n",
       "      <td>None</td>\n",
       "      <td>NaN</td>\n",
       "      <td>N33294</td>\n",
       "      <td>UA</td>\n",
       "    </tr>\n",
       "    <tr>\n",
       "      <th>999890</th>\n",
       "      <td>Cape Air</td>\n",
       "      <td>None</td>\n",
       "      <td>20253.0</td>\n",
       "      <td>N45838</td>\n",
       "      <td>UA</td>\n",
       "    </tr>\n",
       "  </tbody>\n",
       "</table>\n",
       "<p>75917 rows × 5 columns</p>\n",
       "</div>"
      ],
      "text/plain": [
       "                       Airline Carrier_Code(IATA)_x  Carrier_ID(DOT)  \\\n",
       "21      Southwest Airlines Co.                 None          19393.0   \n",
       "27      Southwest Airlines Co.                 None          19393.0   \n",
       "32      Southwest Airlines Co.                 None          19393.0   \n",
       "36      Southwest Airlines Co.                 None          19393.0   \n",
       "48      Southwest Airlines Co.                 None              NaN   \n",
       "...                        ...                  ...              ...   \n",
       "999826   United Air Lines Inc.                 None          19977.0   \n",
       "999860                Cape Air                 None          20253.0   \n",
       "999875                Cape Air                 None              NaN   \n",
       "999882   United Air Lines Inc.                 None              NaN   \n",
       "999890                Cape Air                 None          20253.0   \n",
       "\n",
       "       Tail_Number Carrier_Code(IATA)_y  \n",
       "21          N500WR                   WN  \n",
       "27          N725SW                   WN  \n",
       "32          N409WN                   WN  \n",
       "36          N8537Z                   WN  \n",
       "48          N7718B                   WN  \n",
       "...            ...                  ...  \n",
       "999826      N36280                   UA  \n",
       "999860      N14834                   UA  \n",
       "999875      N45838                   UA  \n",
       "999882      N33294                   UA  \n",
       "999890      N45838                   UA  \n",
       "\n",
       "[75917 rows x 5 columns]"
      ]
     },
     "execution_count": 258,
     "metadata": {},
     "output_type": "execute_result"
    }
   ],
   "source": [
    "hmm2[np.logical_and(hmm2['Carrier_Code(IATA)_x'].isna(), hmm2['Carrier_Code(IATA)_y'].notna())]"
   ]
  }
 ],
 "metadata": {
  "kernelspec": {
   "display_name": "jhs",
   "language": "python",
   "name": "python3"
  },
  "language_info": {
   "codemirror_mode": {
    "name": "ipython",
    "version": 3
   },
   "file_extension": ".py",
   "mimetype": "text/x-python",
   "name": "python",
   "nbconvert_exporter": "python",
   "pygments_lexer": "ipython3",
   "version": "3.11.2"
  },
  "orig_nbformat": 4
 },
 "nbformat": 4,
 "nbformat_minor": 2
}
