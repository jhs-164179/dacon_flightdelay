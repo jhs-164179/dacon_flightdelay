{
 "cells": [
  {
   "cell_type": "code",
   "execution_count": 1,
   "id": "1e082678",
   "metadata": {},
   "outputs": [],
   "source": [
    "import pandas as pd\n",
    "import numpy as np\n",
    "import random\n",
    "import os\n",
    "import gc\n",
    "\n",
    "import matplotlib.pyplot as plt\n",
    "import seaborn as sns\n",
    "\n",
    "from sklearn.preprocessing import LabelEncoder\n",
    "from sklearn.ensemble import RandomForestClassifier as rfc\n",
    "from sklearn.model_selection import GridSearchCV, train_test_split\n",
    "\n",
    "from xgboost import XGBClassifier as xgb\n",
    "from lightgbm import LGBMClassifier as lgbm"
   ]
  },
  {
   "cell_type": "code",
   "execution_count": 2,
   "id": "df1d5454",
   "metadata": {},
   "outputs": [],
   "source": [
    "def seed_everything(seed):\n",
    "    random.seed(seed)\n",
    "    os.environ['PYTHONHASHSEED'] = str(seed)\n",
    "    np.random.seed(seed)\n",
    "\n",
    "seed_everything(42)"
   ]
  },
  {
   "cell_type": "markdown",
   "id": "ff3bdeb5",
   "metadata": {},
   "source": [
    "# Data Load"
   ]
  },
  {
   "cell_type": "code",
   "execution_count": 3,
   "id": "4e5cfa8c",
   "metadata": {},
   "outputs": [
    {
     "name": "stdout",
     "output_type": "stream",
     "text": [
      "Data Loading Done\n"
     ]
    }
   ],
   "source": [
    "train = pd.read_parquet('train.parquet').drop('ID', axis=1)\n",
    "test = pd.read_parquet('test.parquet').drop('ID', axis=1)\n",
    "submission = pd.read_csv('./dts/sample_submission.csv', index_col=0)\n",
    "\n",
    "print('Data Loading Done')"
   ]
  },
  {
   "cell_type": "markdown",
   "id": "8cf4061b",
   "metadata": {},
   "source": [
    "# Data Pre-Processing"
   ]
  },
  {
   "cell_type": "code",
   "execution_count": 4,
   "id": "a16a48c7",
   "metadata": {},
   "outputs": [
    {
     "data": {
      "text/html": [
       "<div>\n",
       "<style scoped>\n",
       "    .dataframe tbody tr th:only-of-type {\n",
       "        vertical-align: middle;\n",
       "    }\n",
       "\n",
       "    .dataframe tbody tr th {\n",
       "        vertical-align: top;\n",
       "    }\n",
       "\n",
       "    .dataframe thead th {\n",
       "        text-align: right;\n",
       "    }\n",
       "</style>\n",
       "<table border=\"1\" class=\"dataframe\">\n",
       "  <thead>\n",
       "    <tr style=\"text-align: right;\">\n",
       "      <th></th>\n",
       "      <th>Month</th>\n",
       "      <th>Day_of_Month</th>\n",
       "      <th>Estimated_Departure_Time</th>\n",
       "      <th>Estimated_Arrival_Time</th>\n",
       "      <th>Cancelled</th>\n",
       "      <th>Diverted</th>\n",
       "      <th>Origin_Airport</th>\n",
       "      <th>Origin_Airport_ID</th>\n",
       "      <th>Origin_State</th>\n",
       "      <th>Destination_Airport</th>\n",
       "      <th>Destination_Airport_ID</th>\n",
       "      <th>Destination_State</th>\n",
       "      <th>Distance</th>\n",
       "      <th>Airline</th>\n",
       "      <th>Carrier_Code(IATA)</th>\n",
       "      <th>Carrier_ID(DOT)</th>\n",
       "      <th>Tail_Number</th>\n",
       "      <th>Delay</th>\n",
       "    </tr>\n",
       "  </thead>\n",
       "  <tbody>\n",
       "    <tr>\n",
       "      <th>0</th>\n",
       "      <td>4</td>\n",
       "      <td>15</td>\n",
       "      <td>NaN</td>\n",
       "      <td>NaN</td>\n",
       "      <td>0</td>\n",
       "      <td>0</td>\n",
       "      <td>OKC</td>\n",
       "      <td>13851</td>\n",
       "      <td>Oklahoma</td>\n",
       "      <td>HOU</td>\n",
       "      <td>12191</td>\n",
       "      <td>Texas</td>\n",
       "      <td>419.0</td>\n",
       "      <td>Southwest Airlines Co.</td>\n",
       "      <td>WN</td>\n",
       "      <td>19393.0</td>\n",
       "      <td>N7858A</td>\n",
       "      <td>None</td>\n",
       "    </tr>\n",
       "    <tr>\n",
       "      <th>1</th>\n",
       "      <td>8</td>\n",
       "      <td>15</td>\n",
       "      <td>740.0</td>\n",
       "      <td>1024.0</td>\n",
       "      <td>0</td>\n",
       "      <td>0</td>\n",
       "      <td>ORD</td>\n",
       "      <td>13930</td>\n",
       "      <td>Illinois</td>\n",
       "      <td>SLC</td>\n",
       "      <td>14869</td>\n",
       "      <td>Utah</td>\n",
       "      <td>1250.0</td>\n",
       "      <td>SkyWest Airlines Inc.</td>\n",
       "      <td>UA</td>\n",
       "      <td>20304.0</td>\n",
       "      <td>N125SY</td>\n",
       "      <td>None</td>\n",
       "    </tr>\n",
       "  </tbody>\n",
       "</table>\n",
       "</div>"
      ],
      "text/plain": [
       "   Month  Day_of_Month  Estimated_Departure_Time  Estimated_Arrival_Time  \\\n",
       "0      4            15                       NaN                     NaN   \n",
       "1      8            15                     740.0                  1024.0   \n",
       "\n",
       "   Cancelled  Diverted Origin_Airport  Origin_Airport_ID Origin_State  \\\n",
       "0          0         0            OKC              13851     Oklahoma   \n",
       "1          0         0            ORD              13930     Illinois   \n",
       "\n",
       "  Destination_Airport  Destination_Airport_ID Destination_State  Distance  \\\n",
       "0                 HOU                   12191             Texas     419.0   \n",
       "1                 SLC                   14869              Utah    1250.0   \n",
       "\n",
       "                  Airline Carrier_Code(IATA)  Carrier_ID(DOT) Tail_Number  \\\n",
       "0  Southwest Airlines Co.                 WN          19393.0      N7858A   \n",
       "1   SkyWest Airlines Inc.                 UA          20304.0      N125SY   \n",
       "\n",
       "  Delay  \n",
       "0  None  \n",
       "1  None  "
      ]
     },
     "execution_count": 4,
     "metadata": {},
     "output_type": "execute_result"
    }
   ],
   "source": [
    "train.head(2)"
   ]
  },
  {
   "cell_type": "code",
   "execution_count": 5,
   "id": "0ce68122",
   "metadata": {
    "scrolled": true
   },
   "outputs": [
    {
     "name": "stdout",
     "output_type": "stream",
     "text": [
      "<class 'pandas.core.frame.DataFrame'>\n",
      "RangeIndex: 1000000 entries, 0 to 999999\n",
      "Data columns (total 18 columns):\n",
      " #   Column                    Non-Null Count    Dtype  \n",
      "---  ------                    --------------    -----  \n",
      " 0   Month                     1000000 non-null  int64  \n",
      " 1   Day_of_Month              1000000 non-null  int64  \n",
      " 2   Estimated_Departure_Time  890981 non-null   float64\n",
      " 3   Estimated_Arrival_Time    890960 non-null   float64\n",
      " 4   Cancelled                 1000000 non-null  int64  \n",
      " 5   Diverted                  1000000 non-null  int64  \n",
      " 6   Origin_Airport            1000000 non-null  object \n",
      " 7   Origin_Airport_ID         1000000 non-null  int64  \n",
      " 8   Origin_State              890985 non-null   object \n",
      " 9   Destination_Airport       1000000 non-null  object \n",
      " 10  Destination_Airport_ID    1000000 non-null  int64  \n",
      " 11  Destination_State         890921 non-null   object \n",
      " 12  Distance                  1000000 non-null  float64\n",
      " 13  Airline                   891080 non-null   object \n",
      " 14  Carrier_Code(IATA)        891010 non-null   object \n",
      " 15  Carrier_ID(DOT)           891003 non-null   float64\n",
      " 16  Tail_Number               1000000 non-null  object \n",
      " 17  Delay                     255001 non-null   object \n",
      "dtypes: float64(4), int64(6), object(8)\n",
      "memory usage: 137.3+ MB\n"
     ]
    }
   ],
   "source": [
    "train.info()"
   ]
  },
  {
   "cell_type": "markdown",
   "id": "b786e921",
   "metadata": {},
   "source": [
    "- 레이블을 제외한 결측값이 존재하는 변수들을 학습 데이터의 최빈값으로 대체합니다"
   ]
  },
  {
   "cell_type": "code",
   "execution_count": 6,
   "id": "9e96383f",
   "metadata": {},
   "outputs": [
    {
     "name": "stdout",
     "output_type": "stream",
     "text": [
      "['Estimated_Departure_Time', 'Estimated_Arrival_Time', 'Origin_State', 'Destination_State', 'Airline', 'Carrier_Code(IATA)', 'Carrier_ID(DOT)', 'Delay']\n",
      "결측치 처리 완료(최빈값으로 대체)\n"
     ]
    }
   ],
   "source": [
    "NaN_col = []\n",
    "\n",
    "for i in range(len(train.columns)):\n",
    "    if(sum(train[train.columns[i]].notna())<1000000):\n",
    "        NaN_col.append(train.columns[i])\n",
    "        \n",
    "print(NaN_col)\n",
    "\n",
    "for col in NaN_col:\n",
    "    mode = train[col].mode()[0]\n",
    "    train[col] = train[col].fillna(mode)\n",
    "    \n",
    "    if col in test.columns:\n",
    "        test[col] = test[col].fillna(mode)\n",
    "\n",
    "print('결측치 처리 완료(최빈값으로 대체)')"
   ]
  },
  {
   "cell_type": "markdown",
   "id": "baabb492",
   "metadata": {},
   "source": [
    "- 질적 변수들을 수치화합니다"
   ]
  },
  {
   "cell_type": "code",
   "execution_count": 7,
   "id": "685223a5",
   "metadata": {},
   "outputs": [
    {
     "name": "stdout",
     "output_type": "stream",
     "text": [
      "['Origin_Airport', 'Origin_State', 'Destination_Airport', 'Destination_State', 'Airline', 'Carrier_Code(IATA)', 'Tail_Number']\n",
      "질적 변수 수치화 완료\n"
     ]
    }
   ],
   "source": [
    "qual_col = []\n",
    "\n",
    "for i in range(len(train.dtypes)):\n",
    "    if (train.dtypes[i] == 'object'):\n",
    "        qual_col.append(train.columns[i])\n",
    "        \n",
    "qual_col.remove('Delay')\n",
    "print(qual_col)\n",
    "\n",
    "for i in qual_col:\n",
    "    le = LabelEncoder()\n",
    "    le = le.fit(train[i])\n",
    "    train[i] = le.transform(train[i])\n",
    "    \n",
    "    for label in np.unique(test[i]):\n",
    "        if label not in le.classes_:\n",
    "            le.classes_ = np.append(le.classes_, label)\n",
    "            \n",
    "    test[i] = le.transform(test[i])\n",
    "    \n",
    "print('질적 변수 수치화 완료')"
   ]
  },
  {
   "cell_type": "markdown",
   "id": "d0d18a9d",
   "metadata": {},
   "source": [
    "- 레이블이 없는 데이터를 분리합니다"
   ]
  },
  {
   "cell_type": "code",
   "execution_count": 8,
   "id": "0b8d8927",
   "metadata": {},
   "outputs": [
    {
     "name": "stdout",
     "output_type": "stream",
     "text": [
      "레이블이 없는 데이터 제거 완료\n"
     ]
    }
   ],
   "source": [
    "train = train.dropna()\n",
    "\n",
    "column_number = {}\n",
    "for i,column in enumerate(submission.columns):\n",
    "    column_number[column] = i\n",
    "    \n",
    "def to_number(x, dic):\n",
    "    return dic[x]\n",
    "\n",
    "train.loc[:, 'Delay_num'] = train['Delay'].apply(lambda x: to_number(x, column_number))\n",
    "\n",
    "train_x = train.drop(columns = ['Delay','Delay_num'])\n",
    "train_y = train['Delay_num']\n",
    "print('레이블이 없는 데이터 제거 완료')"
   ]
  },
  {
   "attachments": {},
   "cell_type": "markdown",
   "id": "7afba772",
   "metadata": {},
   "source": [
    "- 데이터 표준화 절차"
   ]
  },
  {
   "cell_type": "code",
   "execution_count": 9,
   "id": "f03800dc",
   "metadata": {},
   "outputs": [],
   "source": [
    "from sklearn.preprocessing import StandardScaler\n",
    "\n",
    "ss = StandardScaler()\n",
    "\n",
    "train_x = pd.DataFrame(ss.fit_transform(train_x), columns=train_x.columns)"
   ]
  },
  {
   "cell_type": "markdown",
   "id": "f795b15e",
   "metadata": {},
   "source": [
    "# 모델 튜닝"
   ]
  },
  {
   "cell_type": "code",
   "execution_count": 10,
   "id": "77897544",
   "metadata": {},
   "outputs": [
    {
     "data": {
      "text/plain": [
       "21.22222222222222"
      ]
     },
     "execution_count": 10,
     "metadata": {},
     "output_type": "execute_result"
    }
   ],
   "source": [
    "train_y.value_counts()[0]/train_y.value_counts()[1]"
   ]
  },
  {
   "cell_type": "code",
   "execution_count": 11,
   "id": "0b4261d1",
   "metadata": {},
   "outputs": [
    {
     "name": "stdout",
     "output_type": "stream",
     "text": [
      "Fitting 5 folds for each of 324 candidates, totalling 1620 fits\n"
     ]
    }
   ],
   "source": [
    "model = xgb(scale_pos_weight=21.2, random_state=42)\n",
    "\n",
    "param_grid = {\n",
    "    'eta': [.05, .1, .2, .3],\n",
    "    'max_depth': [4,5,6],\n",
    "    'n_estimators': [100, 300, 500],\n",
    "    'reg_alpha':[0,1,2],\n",
    "    'reg_lambda':[0,1,2]\n",
    "}\n",
    "\n",
    "grid = GridSearchCV(model,\n",
    "                    param_grid,\n",
    "                    cv=5,\n",
    "                    scoring='neg_log_loss',\n",
    "                    verbose=1)\n",
    "\n",
    "grid.fit(train_x, train_y)\n",
    "\n",
    "best_model = grid.best_estimator_"
   ]
  },
  {
   "attachments": {},
   "cell_type": "markdown",
   "id": "cd0be393",
   "metadata": {},
   "source": [
    "# 예측 및 제출"
   ]
  },
  {
   "cell_type": "code",
   "execution_count": null,
   "id": "20239ad0",
   "metadata": {},
   "outputs": [],
   "source": [
    "y_pred = best_model.predict_proba(test)\n",
    "\n",
    "ubmission = pd.DataFrame(data=y_pred, columns=submission.columns, index=submission.index)\n",
    "submission.to_csv('xgbgrid_submission.csv', index=True)"
   ]
  },
  {
   "cell_type": "code",
   "execution_count": null,
   "id": "331863cb",
   "metadata": {},
   "outputs": [],
   "source": [
    "# mod_xgb = xgb(booster='gbtree', n_estimators=2000, reg_alpha=2, reg_lambda=2,\n",
    "#               eval_metric='rmse', num_parallel_tree=3, eta=.1, max_depth=4, random_state=42)\n",
    "# mod_xgb.fit(train_test, train_y)\n",
    "\n",
    "# print('xgb_rmse')\n",
    "# pred_score = mod_xgb.predict(val_test)\n",
    "# print(mse(val_y,pred_score,squared=False))"
   ]
  }
 ],
 "metadata": {
  "kernelspec": {
   "display_name": "Python 3 (ipykernel)",
   "language": "python",
   "name": "python3"
  },
  "language_info": {
   "codemirror_mode": {
    "name": "ipython",
    "version": 3
   },
   "file_extension": ".py",
   "mimetype": "text/x-python",
   "name": "python",
   "nbconvert_exporter": "python",
   "pygments_lexer": "ipython3",
   "version": "3.11.2"
  }
 },
 "nbformat": 4,
 "nbformat_minor": 5
}
